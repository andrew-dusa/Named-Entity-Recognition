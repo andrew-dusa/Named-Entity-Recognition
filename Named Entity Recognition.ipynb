{
 "cells": [
  {
   "cell_type": "code",
   "execution_count": 40,
   "id": "859688d6",
   "metadata": {},
   "outputs": [
    {
     "data": {
      "text/html": [
       "<div>\n",
       "<style scoped>\n",
       "    .dataframe tbody tr th:only-of-type {\n",
       "        vertical-align: middle;\n",
       "    }\n",
       "\n",
       "    .dataframe tbody tr th {\n",
       "        vertical-align: top;\n",
       "    }\n",
       "\n",
       "    .dataframe thead th {\n",
       "        text-align: right;\n",
       "    }\n",
       "</style>\n",
       "<table border=\"1\" class=\"dataframe\">\n",
       "  <thead>\n",
       "    <tr style=\"text-align: right;\">\n",
       "      <th></th>\n",
       "      <th>Sentence #</th>\n",
       "      <th>Word</th>\n",
       "      <th>POS</th>\n",
       "      <th>Tag</th>\n",
       "    </tr>\n",
       "  </thead>\n",
       "  <tbody>\n",
       "    <tr>\n",
       "      <th>0</th>\n",
       "      <td>Sentence: 1</td>\n",
       "      <td>Thousands</td>\n",
       "      <td>NNS</td>\n",
       "      <td>O</td>\n",
       "    </tr>\n",
       "    <tr>\n",
       "      <th>1</th>\n",
       "      <td>NaN</td>\n",
       "      <td>of</td>\n",
       "      <td>IN</td>\n",
       "      <td>O</td>\n",
       "    </tr>\n",
       "    <tr>\n",
       "      <th>2</th>\n",
       "      <td>NaN</td>\n",
       "      <td>demonstrators</td>\n",
       "      <td>NNS</td>\n",
       "      <td>O</td>\n",
       "    </tr>\n",
       "    <tr>\n",
       "      <th>3</th>\n",
       "      <td>NaN</td>\n",
       "      <td>have</td>\n",
       "      <td>VBP</td>\n",
       "      <td>O</td>\n",
       "    </tr>\n",
       "    <tr>\n",
       "      <th>4</th>\n",
       "      <td>NaN</td>\n",
       "      <td>marched</td>\n",
       "      <td>VBN</td>\n",
       "      <td>O</td>\n",
       "    </tr>\n",
       "  </tbody>\n",
       "</table>\n",
       "</div>"
      ],
      "text/plain": [
       "    Sentence #           Word  POS Tag\n",
       "0  Sentence: 1      Thousands  NNS   O\n",
       "1          NaN             of   IN   O\n",
       "2          NaN  demonstrators  NNS   O\n",
       "3          NaN           have  VBP   O\n",
       "4          NaN        marched  VBN   O"
      ]
     },
     "execution_count": 40,
     "metadata": {},
     "output_type": "execute_result"
    }
   ],
   "source": [
    "import pandas as pd\n",
    "data = pd.read_csv('ner_dataset.csv', encoding= 'unicode_escape')\n",
    "data.head()"
   ]
  },
  {
   "cell_type": "code",
   "execution_count": 41,
   "id": "56f52247",
   "metadata": {},
   "outputs": [],
   "source": [
    "from itertools import chain\n",
    "def MapTokens(data, value):\n",
    "    token_to_index = {}\n",
    "    index_to_token = {}\n",
    "    \n",
    "    if value == 'token':\n",
    "        vocab = list(set(data['Word'].to_list()))\n",
    "    else:\n",
    "        vocab = list(set(data['Tag'].to_list()))\n",
    "    \n",
    "    index_to_token = {idx:tok for idx, tok in enumerate(vocab)}\n",
    "    token_to_index = {tok:idx for idx, tok in enumerate(vocab)}\n",
    "    return token_to_index, index_to_token\n",
    "\n",
    "token_to_index, index_to_token = MapTokens(data, 'token')\n",
    "tag_to_index, index_to_tag = MapTokens(data, 'tag')\n",
    "data['Word_idx'] = data['Word'].map(token_to_index)\n",
    "data['Tag_idx'] = data['Tag'].map(tag_to_index)\n"
   ]
  },
  {
   "cell_type": "code",
   "execution_count": 42,
   "id": "e9520969",
   "metadata": {},
   "outputs": [
    {
     "name": "stderr",
     "output_type": "stream",
     "text": [
      "/var/folders/d4/pf1_fjld6z99zb06bgq0xdlm0000gn/T/ipykernel_64811/3580267271.py:2: FutureWarning: Indexing with multiple keys (implicitly converted to a tuple of keys) will be deprecated, use a list instead.\n",
      "  dataGroup = fixed_data.groupby(\n"
     ]
    }
   ],
   "source": [
    "fixed_data = data.fillna(method='ffill', axis = 0)\n",
    "dataGroup = fixed_data.groupby(\n",
    "['Sentence #'], as_index= False)['Word', 'POS','Tag','Word_idx', 'Tag_idx'].agg(lambda x: list(x))"
   ]
  },
  {
   "cell_type": "code",
   "execution_count": 43,
   "id": "edc1a698",
   "metadata": {},
   "outputs": [
    {
     "name": "stdout",
     "output_type": "stream",
     "text": [
      "trainTokens length: 32372 \n",
      "trainTags length 32372 \n",
      "testTokens length: 4796 \n",
      "testTags length: 4796 \n",
      "valTokens length: 10791 \n",
      "valTags length: 10791\n"
     ]
    }
   ],
   "source": [
    "from sklearn.model_selection import train_test_split\n",
    "from keras.preprocessing.sequence import pad_sequences\n",
    "from keras.utils import to_categorical\n",
    "def getTrainTestSplit(data_group, data):\n",
    "    number_of_token = len(list(set(data['Word'].to_list()))) #getting max length\n",
    "    number_of_tag = len(list(set(data['Tag'].to_list())))\n",
    "    tokens = data_group['Word_idx'].tolist() # here we pad our tokens\n",
    "    maxlen = max([len(s) for s in tokens])\n",
    "    pad_tokens = pad_sequences(tokens, maxlen=maxlen,dtype='int32',padding='post' , value=number_of_token-1)\n",
    "    tags = data_group['Tag_idx'].tolist() #Here we convert our tags to one hot encoding after padding them\n",
    "    pad_tags = pad_sequences(tags,maxlen = maxlen, dtype='int32', padding = 'post', value = tag_to_index[\"O\"])\n",
    "    number_of_tags = len(tag_to_index)\n",
    "    pad_tags = [to_categorical(i,num_classes=number_of_tags) for i in pad_tags]\n",
    "    \n",
    "    tokens_, test_tokens, tags_, test_tags = train_test_split(pad_tokens, pad_tags, test_size=0.1, train_size=0.9, random_state=2020)\n",
    "    train_tokens, validation_tokens, train_tags, validation_tags = train_test_split(tokens_,tags_,test_size = 0.25,train_size =0.75, random_state=2020)\n",
    "    \n",
    "    print(\n",
    "        'trainTokens length:', len(train_tokens),\n",
    "        '\\ntrainTags length', len(train_tags),\n",
    "        '\\ntestTokens length:', len(test_tokens),\n",
    "        '\\ntestTags length:', len(test_tags),\n",
    "        '\\nvalTokens length:', len(validation_tokens),\n",
    "        '\\nvalTags length:', len(validation_tags),\n",
    "    )\n",
    "    \n",
    "    return train_tokens, validation_tokens, test_tokens, train_tags, validation_tags, test_tags\n",
    "\n",
    "train_tokens, validation_tokens, testTokens, train_tags, validation_tags, test_tags = getTrainTestSplit(dataGroup, data)\n",
    "    "
   ]
  },
  {
   "cell_type": "code",
   "execution_count": 44,
   "id": "04a567bf",
   "metadata": {},
   "outputs": [],
   "source": [
    "import numpy as np\n",
    "import tensorflow\n",
    "from tensorflow.keras import Sequential, Model, Input\n",
    "from tensorflow.keras.layers import LSTM, Embedding, Dense, TimeDistributed, Dropout, Bidirectional\n",
    "from tensorflow.keras.utils import plot_model\n",
    "\n",
    "from numpy.random import seed\n",
    "seed(1)\n",
    "tensorflow.random.set_seed(2)\n",
    "\n",
    "input_dimensions = len(list(set(data['Word'].to_list())))+1\n",
    "output_dimensions = 64\n",
    "input_length = max([len(s) for s in data_group['Word_idx'].tolist()])\n",
    "number_of_tags = len(tag_to_index)\n",
    "\n"
   ]
  },
  {
   "cell_type": "code",
   "execution_count": 45,
   "id": "20d68ea6",
   "metadata": {},
   "outputs": [],
   "source": [
    "def get_bilstm_lstm_model():\n",
    "    model = Sequential()\n",
    "    # Adding Embedding layer\n",
    "    model.add(Embedding(input_dim=input_dimensions, output_dim=output_dimensions, input_length=input_length))\n",
    "    # Adding bidirectional LSTM\n",
    "    model.add(Bidirectional(LSTM(units=output_dimensions, return_sequences=True, dropout=0.2, recurrent_dropout=0.2), merge_mode = 'concat'))\n",
    "    # Adding LSTM\n",
    "    model.add(LSTM(units=output_dimensions, return_sequences=True, dropout=0.5, recurrent_dropout=0.5))\n",
    "    # Adding timeDistributed Layer\n",
    "    model.add(TimeDistributed(Dense(number_of_tags, activation=\"relu\")))\n",
    "    # Compile model\n",
    "    model.compile(loss='categorical_crossentropy', optimizer='adam', metrics=['accuracy'])\n",
    "    model.summary()\n",
    "    \n",
    "    return model"
   ]
  },
  {
   "cell_type": "code",
   "execution_count": 46,
   "id": "816a20dc",
   "metadata": {},
   "outputs": [
    {
     "name": "stdout",
     "output_type": "stream",
     "text": [
      "Model: \"sequential_4\"\n",
      "_________________________________________________________________\n",
      " Layer (type)                Output Shape              Param #   \n",
      "=================================================================\n",
      " embedding_4 (Embedding)     (None, 104, 64)           2251456   \n",
      "                                                                 \n",
      " bidirectional_4 (Bidirecti  (None, 104, 128)          66048     \n",
      " onal)                                                           \n",
      "                                                                 \n",
      " lstm_9 (LSTM)               (None, 104, 64)           49408     \n",
      "                                                                 \n",
      " time_distributed_4 (TimeDi  (None, 104, 17)           1105      \n",
      " stributed)                                                      \n",
      "                                                                 \n",
      "=================================================================\n",
      "Total params: 2368017 (9.03 MB)\n",
      "Trainable params: 2368017 (9.03 MB)\n",
      "Non-trainable params: 0 (0.00 Byte)\n",
      "_________________________________________________________________\n",
      "26/26 [==============================] - 55s 2s/step - loss: 0.8721 - accuracy: 0.9293 - val_loss: 0.2994 - val_accuracy: 0.9681\n",
      "26/26 [==============================] - 57s 2s/step - loss: 0.3165 - accuracy: 0.9677 - val_loss: 0.2667 - val_accuracy: 0.9681\n",
      "26/26 [==============================] - 66s 3s/step - loss: 0.2641 - accuracy: 0.9678 - val_loss: 0.2420 - val_accuracy: 0.9681\n",
      "26/26 [==============================] - 65s 2s/step - loss: 0.2403 - accuracy: 0.9678 - val_loss: 0.2228 - val_accuracy: 0.9682\n",
      "26/26 [==============================] - 66s 3s/step - loss: 0.2449 - accuracy: 0.9679 - val_loss: 0.2164 - val_accuracy: 0.9682\n",
      "26/26 [==============================] - 64s 2s/step - loss: 0.2274 - accuracy: 0.9679 - val_loss: 0.2274 - val_accuracy: 0.9686\n",
      "26/26 [==============================] - 62s 2s/step - loss: 0.2364 - accuracy: 0.9680 - val_loss: 0.2333 - val_accuracy: 0.9683\n",
      "26/26 [==============================] - 62s 2s/step - loss: 0.2173 - accuracy: 0.9681 - val_loss: 0.2084 - val_accuracy: 0.9686\n",
      "26/26 [==============================] - 63s 2s/step - loss: 0.2084 - accuracy: 0.9681 - val_loss: 0.2062 - val_accuracy: 0.9685\n",
      "26/26 [==============================] - 63s 2s/step - loss: 0.2048 - accuracy: 0.9682 - val_loss: 0.1941 - val_accuracy: 0.9688\n",
      "26/26 [==============================] - 967s 39s/step - loss: 0.1891 - accuracy: 0.9682 - val_loss: 0.1877 - val_accuracy: 0.9687\n",
      "26/26 [==============================] - 66s 3s/step - loss: 0.1816 - accuracy: 0.9683 - val_loss: 0.1852 - val_accuracy: 0.9688\n",
      "26/26 [==============================] - 64s 2s/step - loss: 0.1781 - accuracy: 0.9684 - val_loss: 0.1850 - val_accuracy: 0.9688\n",
      "26/26 [==============================] - 185s 7s/step - loss: 0.1776 - accuracy: 0.9686 - val_loss: 0.1830 - val_accuracy: 0.9690\n",
      "26/26 [==============================] - 55s 2s/step - loss: 0.1851 - accuracy: 0.9688 - val_loss: 0.2260 - val_accuracy: 0.9696\n",
      "26/26 [==============================] - 1398s 56s/step - loss: 0.1858 - accuracy: 0.9689 - val_loss: 0.1823 - val_accuracy: 0.9692\n",
      "26/26 [==============================] - 68s 3s/step - loss: 0.1698 - accuracy: 0.9689 - val_loss: 0.1798 - val_accuracy: 0.9692\n",
      "26/26 [==============================] - 63s 2s/step - loss: 0.1678 - accuracy: 0.9690 - val_loss: 0.1787 - val_accuracy: 0.9693\n",
      "26/26 [==============================] - 392s 16s/step - loss: 0.1650 - accuracy: 0.9690 - val_loss: 0.1769 - val_accuracy: 0.9693\n",
      "26/26 [==============================] - 1044s 18s/step - loss: 0.1618 - accuracy: 0.9692 - val_loss: 0.1761 - val_accuracy: 0.9695\n",
      "26/26 [==============================] - 59s 2s/step - loss: 0.1586 - accuracy: 0.9694 - val_loss: 0.1658 - val_accuracy: 0.9697\n",
      "26/26 [==============================] - 175s 7s/step - loss: 0.1321 - accuracy: 0.9697 - val_loss: 0.1323 - val_accuracy: 0.9699\n",
      "26/26 [==============================] - 95s 3s/step - loss: 0.1189 - accuracy: 0.9699 - val_loss: 0.1264 - val_accuracy: 0.9699\n",
      "26/26 [==============================] - 74s 3s/step - loss: 0.1241 - accuracy: 0.9699 - val_loss: 0.1340 - val_accuracy: 0.9702\n",
      "26/26 [==============================] - 68s 3s/step - loss: 0.1327 - accuracy: 0.9697 - val_loss: 0.1355 - val_accuracy: 0.9699\n"
     ]
    }
   ],
   "source": [
    "def train_model(X, y,model):\n",
    "    loss = list()\n",
    "    for i in range(25):\n",
    "        hist = model.fit(X,y,batch_size=1000, verbose = 1, epochs=1,validation_split=0.2)\n",
    "        loss.append(hist.history['loss'][0])\n",
    "    return loss\n",
    "\n",
    "results = pd.DataFrame()\n",
    "model_bilstm_lstm = get_bilstm_lstm_model()\n",
    "results['with_add_lstm'] = train_model(train_tokens, np.array(train_tags), model_bilstm_lstm)"
   ]
  },
  {
   "cell_type": "code",
   "execution_count": 1,
   "id": "466d244f",
   "metadata": {},
   "outputs": [
    {
     "data": {
      "text/html": [
       "<span class=\"tex2jax_ignore\"><div class=\"entities\" style=\"line-height: 2.5; direction: ltr\">My name is \n",
       "<mark class=\"entity\" style=\"background: #aa9cfc; padding: 0.45em 0.6em; margin: 0 0.25em; line-height: 1; border-radius: 0.35em;\">\n",
       "    Andrew Dusa\n",
       "    <span style=\"font-size: 0.8em; font-weight: bold; line-height: 1; border-radius: 0.35em; vertical-align: middle; margin-left: 0.5rem\">PERSON</span>\n",
       "</mark>\n",
       " and I am from \n",
       "<mark class=\"entity\" style=\"background: #feca74; padding: 0.45em 0.6em; margin: 0 0.25em; line-height: 1; border-radius: 0.35em;\">\n",
       "    the United States\n",
       "    <span style=\"font-size: 0.8em; font-weight: bold; line-height: 1; border-radius: 0.35em; vertical-align: middle; margin-left: 0.5rem\">GPE</span>\n",
       "</mark>\n",
       ". I hope to inspire the world to learn to code. I would like the opportunity to work at a tech company like \n",
       "<mark class=\"entity\" style=\"background: #7aecec; padding: 0.45em 0.6em; margin: 0 0.25em; line-height: 1; border-radius: 0.35em;\">\n",
       "    Microsoft\n",
       "    <span style=\"font-size: 0.8em; font-weight: bold; line-height: 1; border-radius: 0.35em; vertical-align: middle; margin-left: 0.5rem\">ORG</span>\n",
       "</mark>\n",
       ", \n",
       "<mark class=\"entity\" style=\"background: #7aecec; padding: 0.45em 0.6em; margin: 0 0.25em; line-height: 1; border-radius: 0.35em;\">\n",
       "    Google\n",
       "    <span style=\"font-size: 0.8em; font-weight: bold; line-height: 1; border-radius: 0.35em; vertical-align: middle; margin-left: 0.5rem\">ORG</span>\n",
       "</mark>\n",
       ", \n",
       "<mark class=\"entity\" style=\"background: #7aecec; padding: 0.45em 0.6em; margin: 0 0.25em; line-height: 1; border-radius: 0.35em;\">\n",
       "    Apple\n",
       "    <span style=\"font-size: 0.8em; font-weight: bold; line-height: 1; border-radius: 0.35em; vertical-align: middle; margin-left: 0.5rem\">ORG</span>\n",
       "</mark>\n",
       ", or \n",
       "<mark class=\"entity\" style=\"background: #7aecec; padding: 0.45em 0.6em; margin: 0 0.25em; line-height: 1; border-radius: 0.35em;\">\n",
       "    Amazon\n",
       "    <span style=\"font-size: 0.8em; font-weight: bold; line-height: 1; border-radius: 0.35em; vertical-align: middle; margin-left: 0.5rem\">ORG</span>\n",
       "</mark>\n",
       ".</div></span>"
      ],
      "text/plain": [
       "<IPython.core.display.HTML object>"
      ]
     },
     "metadata": {},
     "output_type": "display_data"
    }
   ],
   "source": [
    "import spacy\n",
    "from spacy import displacy\n",
    "nlp = spacy.load('en_core_web_sm')\n",
    "Content = nlp('My name is Andrew Dusa and I am from the United States. I hope to inspire the world to learn to code. I would like the opportunity to work at a tech company like Microsoft, Google, Apple, or Amazon.')\n",
    "displacy.render(Content, style = 'ent', jupyter = True)"
   ]
  },
  {
   "cell_type": "code",
   "execution_count": null,
   "id": "c9671e6b",
   "metadata": {},
   "outputs": [],
   "source": []
  }
 ],
 "metadata": {
  "kernelspec": {
   "display_name": "Python 3.11.0 64-bit",
   "language": "python",
   "name": "python3"
  },
  "language_info": {
   "codemirror_mode": {
    "name": "ipython",
    "version": 3
   },
   "file_extension": ".py",
   "mimetype": "text/x-python",
   "name": "python",
   "nbconvert_exporter": "python",
   "pygments_lexer": "ipython3",
   "version": "3.11.0"
  },
  "vscode": {
   "interpreter": {
    "hash": "aee8b7b246df8f9039afb4144a1f6fd8d2ca17a180786b69acc140d282b71a49"
   }
  }
 },
 "nbformat": 4,
 "nbformat_minor": 5
}
